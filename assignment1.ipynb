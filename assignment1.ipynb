{
 "cells": [
  {
   "cell_type": "code",
   "execution_count": 1,
   "metadata": {
    "deletable": false,
    "editable": false
   },
   "outputs": [],
   "source": [
    "# Initialize Otter\n",
    "import otter\n",
    "grader = otter.Notebook(\"assignment1.ipynb\")"
   ]
  },
  {
   "cell_type": "markdown",
   "metadata": {
    "nbgrader": {
     "grade": false,
     "grade_id": "title",
     "locked": true,
     "schema_version": 2,
     "solution": false
    }
   },
   "source": [
    "# Assignment 1: 2018 US House Elections\n",
    "**PSTAT 134/234 (Fall 2022)  \n",
    "Due Date: Sunday, October 16, 11:59 PM**\n",
    "\n",
    "## Collaboration Policy\n",
    "\n",
    "Data science is a collaborative activity. While you may talk with others about\n",
    "the homework, we ask that you **write your solutions individually**. If you do\n",
    "discuss the assignments with others please **include their names** at the top\n",
    "of your notebook.\n",
    "\n",
    "**Collaborators**: Daniel Kim"
   ]
  },
  {
   "cell_type": "markdown",
   "metadata": {},
   "source": [
    "## Direction and Goal\n",
    "\n",
    "![election_prediction](include/clinton-trump-rating.png)  \n",
    "[image credit](https://donsnotes.com/politics/images/clinton-trump-rating.png)\n",
    "\n",
    "We haven't talked about predictive models, but we can still think about what makes a \"good\" prediction.  In this assignment, we'll focus on evaluating the quality of election predictions made by the website [fivethirtyeight.com](https://www.fivethirtyeight.com).  As one prominent example, fivethirtyeight predicted that Clinton had a 70.9% chance to win the election.  Was their model wrong?\n",
    "\n",
    "To gain insight into questions like this, we'll focus on  [US House elections predictions from 2018](https://projects.fivethirtyeight.com/2018-midterm-election-forecast/house/).  Their predictions are based predominantly on polling data but include other sources as well (state of the economy, overall favoriability of politic parties, etc).  \n",
    "\n",
    "This homework is based loosely on [this article](https://projects.fivethirtyeight.com/checking-our-work/).  Please read the article before beginning the assignment."
   ]
  },
  {
   "cell_type": "markdown",
   "metadata": {},
   "source": [
    "## Question 1: Data Processing"
   ]
  },
  {
   "cell_type": "markdown",
   "metadata": {},
   "source": [
    "### Download Data\n",
    "Command line interface is a useful tool for programmatically interacting with general functions of your computer: e.g. manipulate/manage files, download from the internet, run scripts, etc.\n",
    "\n",
    "We will get acquainted with command line soon, but below uses command line interace commands to download the raw CSV file from [fivethirtyeight's github page for this data](https://github.com/fivethirtyeight/checking-our-work-data/blob/master/us_house_elections.csv). The `!` mark tells Jupyter notebook that the command following it is to be evaluated as a command line code."
   ]
  },
  {
   "cell_type": "code",
   "execution_count": 2,
   "metadata": {},
   "outputs": [
    {
     "name": "stdout",
     "output_type": "stream",
     "text": [
      "File ‘include/us_house_elections.csv’ already there; not retrieving.\n"
     ]
    }
   ],
   "source": [
    "!wget -nc https://raw.githubusercontent.com/fivethirtyeight/checking-our-work-data/master/us_house_elections.csv  -O include/us_house_elections.csv"
   ]
  },
  {
   "cell_type": "code",
   "execution_count": 3,
   "metadata": {},
   "outputs": [
    {
     "name": "stdout",
     "output_type": "stream",
     "text": [
      "total 28212\n",
      "-rw-rw-r-- 1 jovyan users    51225 Oct  3 12:08 clinton-trump-rating.png\n",
      "-rw-rw-r-- 1 jovyan users 28834571 Oct 12 14:28 us_house_elections.csv\n"
     ]
    }
   ],
   "source": [
    "!ls -lF include/ ## `ls` command verify that data is downloaded in our folder"
   ]
  },
  {
   "cell_type": "markdown",
   "metadata": {},
   "source": [
    "### Read Data into Python\n",
    "\n",
    "Numpy and Pandas is used to read in the csv file into python."
   ]
  },
  {
   "cell_type": "code",
   "execution_count": 4,
   "metadata": {},
   "outputs": [],
   "source": [
    "import pandas as pd\n",
    "import numpy as np\n",
    "election_data = pd.read_csv(\"include/us_house_elections.csv\", low_memory=False)"
   ]
  },
  {
   "cell_type": "markdown",
   "metadata": {},
   "source": [
    "Add column of zeros named `bin` to `election_data` (we will populate this column with meaningful data later) and `print` the first 10 rows of the `DataFrame` using `iloc`."
   ]
  },
  {
   "cell_type": "code",
   "execution_count": 5,
   "metadata": {},
   "outputs": [
    {
     "data": {
      "text/html": [
       "<div>\n",
       "<style scoped>\n",
       "    .dataframe tbody tr th:only-of-type {\n",
       "        vertical-align: middle;\n",
       "    }\n",
       "\n",
       "    .dataframe tbody tr th {\n",
       "        vertical-align: top;\n",
       "    }\n",
       "\n",
       "    .dataframe thead th {\n",
       "        text-align: right;\n",
       "    }\n",
       "</style>\n",
       "<table border=\"1\" class=\"dataframe\">\n",
       "  <thead>\n",
       "    <tr style=\"text-align: right;\">\n",
       "      <th></th>\n",
       "      <th>year</th>\n",
       "      <th>office</th>\n",
       "      <th>state</th>\n",
       "      <th>district</th>\n",
       "      <th>election_date</th>\n",
       "      <th>forecast_date</th>\n",
       "      <th>forecast_type</th>\n",
       "      <th>party</th>\n",
       "      <th>candidate</th>\n",
       "      <th>projected_voteshare</th>\n",
       "      <th>actual_voteshare</th>\n",
       "      <th>probwin</th>\n",
       "      <th>probwin_outcome</th>\n",
       "      <th>bin</th>\n",
       "    </tr>\n",
       "  </thead>\n",
       "  <tbody>\n",
       "    <tr>\n",
       "      <th>0</th>\n",
       "      <td>2020</td>\n",
       "      <td>House</td>\n",
       "      <td>WY</td>\n",
       "      <td>1.0</td>\n",
       "      <td>2020-11-03</td>\n",
       "      <td>2020-11-03</td>\n",
       "      <td>lite</td>\n",
       "      <td>D</td>\n",
       "      <td>Bull</td>\n",
       "      <td>34.73896</td>\n",
       "      <td>24.576584</td>\n",
       "      <td>0.003150</td>\n",
       "      <td>0</td>\n",
       "      <td>0</td>\n",
       "    </tr>\n",
       "    <tr>\n",
       "      <th>1</th>\n",
       "      <td>2020</td>\n",
       "      <td>House</td>\n",
       "      <td>WY</td>\n",
       "      <td>1.0</td>\n",
       "      <td>2020-11-03</td>\n",
       "      <td>2020-11-03</td>\n",
       "      <td>lite</td>\n",
       "      <td>R</td>\n",
       "      <td>Cheney</td>\n",
       "      <td>65.26104</td>\n",
       "      <td>68.563117</td>\n",
       "      <td>0.996850</td>\n",
       "      <td>1</td>\n",
       "      <td>0</td>\n",
       "    </tr>\n",
       "    <tr>\n",
       "      <th>2</th>\n",
       "      <td>2020</td>\n",
       "      <td>House</td>\n",
       "      <td>WV</td>\n",
       "      <td>3.0</td>\n",
       "      <td>2020-11-03</td>\n",
       "      <td>2020-11-03</td>\n",
       "      <td>lite</td>\n",
       "      <td>D</td>\n",
       "      <td>Turner</td>\n",
       "      <td>28.25597</td>\n",
       "      <td>28.663824</td>\n",
       "      <td>0.002350</td>\n",
       "      <td>0</td>\n",
       "      <td>0</td>\n",
       "    </tr>\n",
       "    <tr>\n",
       "      <th>3</th>\n",
       "      <td>2020</td>\n",
       "      <td>House</td>\n",
       "      <td>WV</td>\n",
       "      <td>3.0</td>\n",
       "      <td>2020-11-03</td>\n",
       "      <td>2020-11-03</td>\n",
       "      <td>lite</td>\n",
       "      <td>R</td>\n",
       "      <td>Miller</td>\n",
       "      <td>71.74403</td>\n",
       "      <td>71.336176</td>\n",
       "      <td>0.997650</td>\n",
       "      <td>1</td>\n",
       "      <td>0</td>\n",
       "    </tr>\n",
       "    <tr>\n",
       "      <th>4</th>\n",
       "      <td>2020</td>\n",
       "      <td>House</td>\n",
       "      <td>WV</td>\n",
       "      <td>2.0</td>\n",
       "      <td>2020-11-03</td>\n",
       "      <td>2020-11-03</td>\n",
       "      <td>lite</td>\n",
       "      <td>D</td>\n",
       "      <td>Kunkel</td>\n",
       "      <td>35.19270</td>\n",
       "      <td>36.923522</td>\n",
       "      <td>0.017975</td>\n",
       "      <td>0</td>\n",
       "      <td>0</td>\n",
       "    </tr>\n",
       "    <tr>\n",
       "      <th>5</th>\n",
       "      <td>2020</td>\n",
       "      <td>House</td>\n",
       "      <td>WV</td>\n",
       "      <td>2.0</td>\n",
       "      <td>2020-11-03</td>\n",
       "      <td>2020-11-03</td>\n",
       "      <td>lite</td>\n",
       "      <td>R</td>\n",
       "      <td>Mooney</td>\n",
       "      <td>64.80730</td>\n",
       "      <td>63.076478</td>\n",
       "      <td>0.982025</td>\n",
       "      <td>1</td>\n",
       "      <td>0</td>\n",
       "    </tr>\n",
       "    <tr>\n",
       "      <th>6</th>\n",
       "      <td>2020</td>\n",
       "      <td>House</td>\n",
       "      <td>WV</td>\n",
       "      <td>1.0</td>\n",
       "      <td>2020-11-03</td>\n",
       "      <td>2020-11-03</td>\n",
       "      <td>lite</td>\n",
       "      <td>D</td>\n",
       "      <td>Cline</td>\n",
       "      <td>30.34452</td>\n",
       "      <td>31.023255</td>\n",
       "      <td>0.007100</td>\n",
       "      <td>0</td>\n",
       "      <td>0</td>\n",
       "    </tr>\n",
       "    <tr>\n",
       "      <th>7</th>\n",
       "      <td>2020</td>\n",
       "      <td>House</td>\n",
       "      <td>WV</td>\n",
       "      <td>1.0</td>\n",
       "      <td>2020-11-03</td>\n",
       "      <td>2020-11-03</td>\n",
       "      <td>lite</td>\n",
       "      <td>R</td>\n",
       "      <td>McKinley</td>\n",
       "      <td>66.29501</td>\n",
       "      <td>68.976745</td>\n",
       "      <td>0.992900</td>\n",
       "      <td>1</td>\n",
       "      <td>0</td>\n",
       "    </tr>\n",
       "    <tr>\n",
       "      <th>8</th>\n",
       "      <td>2020</td>\n",
       "      <td>House</td>\n",
       "      <td>WI</td>\n",
       "      <td>8.0</td>\n",
       "      <td>2020-11-03</td>\n",
       "      <td>2020-11-03</td>\n",
       "      <td>lite</td>\n",
       "      <td>D</td>\n",
       "      <td>Stuck</td>\n",
       "      <td>40.59269</td>\n",
       "      <td>35.793298</td>\n",
       "      <td>0.081525</td>\n",
       "      <td>0</td>\n",
       "      <td>0</td>\n",
       "    </tr>\n",
       "    <tr>\n",
       "      <th>9</th>\n",
       "      <td>2020</td>\n",
       "      <td>House</td>\n",
       "      <td>WI</td>\n",
       "      <td>8.0</td>\n",
       "      <td>2020-11-03</td>\n",
       "      <td>2020-11-03</td>\n",
       "      <td>lite</td>\n",
       "      <td>R</td>\n",
       "      <td>Gallagher</td>\n",
       "      <td>59.40731</td>\n",
       "      <td>64.181094</td>\n",
       "      <td>0.918475</td>\n",
       "      <td>1</td>\n",
       "      <td>0</td>\n",
       "    </tr>\n",
       "  </tbody>\n",
       "</table>\n",
       "</div>"
      ],
      "text/plain": [
       "   year office state  district election_date forecast_date forecast_type  \\\n",
       "0  2020  House    WY       1.0    2020-11-03    2020-11-03          lite   \n",
       "1  2020  House    WY       1.0    2020-11-03    2020-11-03          lite   \n",
       "2  2020  House    WV       3.0    2020-11-03    2020-11-03          lite   \n",
       "3  2020  House    WV       3.0    2020-11-03    2020-11-03          lite   \n",
       "4  2020  House    WV       2.0    2020-11-03    2020-11-03          lite   \n",
       "5  2020  House    WV       2.0    2020-11-03    2020-11-03          lite   \n",
       "6  2020  House    WV       1.0    2020-11-03    2020-11-03          lite   \n",
       "7  2020  House    WV       1.0    2020-11-03    2020-11-03          lite   \n",
       "8  2020  House    WI       8.0    2020-11-03    2020-11-03          lite   \n",
       "9  2020  House    WI       8.0    2020-11-03    2020-11-03          lite   \n",
       "\n",
       "  party  candidate  projected_voteshare  actual_voteshare   probwin  \\\n",
       "0     D       Bull             34.73896         24.576584  0.003150   \n",
       "1     R     Cheney             65.26104         68.563117  0.996850   \n",
       "2     D     Turner             28.25597         28.663824  0.002350   \n",
       "3     R     Miller             71.74403         71.336176  0.997650   \n",
       "4     D     Kunkel             35.19270         36.923522  0.017975   \n",
       "5     R     Mooney             64.80730         63.076478  0.982025   \n",
       "6     D      Cline             30.34452         31.023255  0.007100   \n",
       "7     R   McKinley             66.29501         68.976745  0.992900   \n",
       "8     D      Stuck             40.59269         35.793298  0.081525   \n",
       "9     R  Gallagher             59.40731         64.181094  0.918475   \n",
       "\n",
       "   probwin_outcome  bin  \n",
       "0                0    0  \n",
       "1                1    0  \n",
       "2                0    0  \n",
       "3                1    0  \n",
       "4                0    0  \n",
       "5                1    0  \n",
       "6                0    0  \n",
       "7                1    0  \n",
       "8                0    0  \n",
       "9                1    0  "
      ]
     },
     "execution_count": 5,
     "metadata": {},
     "output_type": "execute_result"
    }
   ],
   "source": [
    "election_data['bin'] = 0\n",
    "election_data.iloc[:10]"
   ]
  },
  {
   "cell_type": "markdown",
   "metadata": {},
   "source": [
    "Fivethirtyeight has three different prediction models: `lite`, `classic` and `deluxe`, which roughly incorporate an increasing number of assumptions.  In this assignment lets focus on evaluting the quality of the `classic` predictions.  You can read more about how the prediction models work [here](https://fivethirtyeight.com/methodology/how-fivethirtyeights-house-and-senate-models-work/).\n",
    "\n",
    "Fivethirtyeight continuously updated their predictions as more polling data became available for each of the races.  Let's focus on the predictions a few months before the election, on August 11th, and on the morning of election day, November 6th.  "
   ]
  },
  {
   "cell_type": "markdown",
   "metadata": {
    "deletable": false,
    "editable": false
   },
   "source": [
    "### Question 1a: Subset Data\n",
    "\n",
    "<!--\n",
    "BEGIN QUESTION\n",
    "name: q1a\n",
    "manual: false\n",
    "points: 5\n",
    "-->\n",
    "\n",
    "Create a new pandas dataframe called `election_sub` by filtering to include only rows in which the `forecast_type` is \"classic\", and the date of the foreceast (`forecast_date`) is 8/11 or 11/6. \n",
    "\n",
    "Using `query` method seems well-suited.  Note you can make two (or more) calls to `query` by chaining calls to `query` like this: `election_data.query(...).query(...)`. Output of one query will be used as an input to the second query."
   ]
  },
  {
   "cell_type": "code",
   "execution_count": 6,
   "metadata": {},
   "outputs": [],
   "source": [
    "election_sub = election_data.query(\"forecast_type == 'classic'\").query(\"forecast_date == '2018-08-11' | forecast_date == '2018-11-06'\")"
   ]
  },
  {
   "cell_type": "code",
   "execution_count": 7,
   "metadata": {
    "deletable": false,
    "editable": false
   },
   "outputs": [
    {
     "data": {
      "text/html": [
       "\n",
       "    <p><strong>q1a</strong> passed!</p>\n",
       "    "
      ],
      "text/plain": [
       "q1a passed!"
      ]
     },
     "execution_count": 7,
     "metadata": {},
     "output_type": "execute_result"
    }
   ],
   "source": [
    "grader.check(\"q1a\")"
   ]
  },
  {
   "cell_type": "markdown",
   "metadata": {
    "deletable": false,
    "editable": false
   },
   "source": [
    "### Question 1b: Filtering Data\n",
    "\n",
    "In previous question, data was subset for two forcast dates: 2018-11-06 and 2018-08-11. Presumably, there _should be_ two rows (predictions) for each candidate; however, you will see that some candidates are missing one of the two predictions and not all name entries are valid.\n",
    "\n",
    "Using Pandas, remove any NaN names and any candidate that does not have two predictions.\n",
    "\n",
    "Finally, overwrite `election_sub` with the filtered data.\n",
    "\n",
    "There are different ways of doing this. I found the following functions useful:\n",
    "\n",
    "* [`pandas.DataFrame.isnull`](https://pandas.pydata.org/pandas-docs/stable/reference/api/pandas.DataFrame.isnull.html)\n",
    "* [`pandas.DataFrame.groupby`](https://pandas.pydata.org/pandas-docs/stable/reference/api/pandas.DataFrame.groupby.html)\n",
    "* [`pandas.core.groupby.DataFrameGroupBy.filter`](https://pandas.pydata.org/pandas-docs/stable/reference/api/pandas.core.groupby.DataFrameGroupBy.filter.html)\n",
    "* [`pandas.DataFrame.shape`](https://pandas.pydata.org/pandas-docs/stable/reference/api/pandas.DataFrame.shape.html)\n",
    "\n",
    "When using the documentation, make sure to use the correct version. You can check by running `pd.__version__`.\n",
    "\n",
    "<!--\n",
    "BEGIN QUESTION\n",
    "name: q1b\n",
    "manual: false\n",
    "points: 3\n",
    "-->"
   ]
  },
  {
   "cell_type": "code",
   "execution_count": 8,
   "metadata": {},
   "outputs": [],
   "source": [
    "election_sub = election_sub.dropna(subset=[\"candidate\"]).groupby(\"candidate\").filter(lambda x: x.shape[0] == 2)"
   ]
  },
  {
   "cell_type": "code",
   "execution_count": 9,
   "metadata": {
    "deletable": false,
    "editable": false
   },
   "outputs": [
    {
     "data": {
      "text/html": [
       "\n",
       "    <p><strong>q1b</strong> passed!</p>\n",
       "    "
      ],
      "text/plain": [
       "q1b passed!"
      ]
     },
     "execution_count": 9,
     "metadata": {},
     "output_type": "execute_result"
    }
   ],
   "source": [
    "grader.check(\"q1b\")"
   ]
  },
  {
   "cell_type": "markdown",
   "metadata": {
    "deletable": false,
    "editable": false
   },
   "source": [
    "### Question 1c: Transform Data\n",
    "\n",
    "<!--\n",
    "BEGIN QUESTION\n",
    "name: q1c\n",
    "manual: false\n",
    "points: 3\n",
    "-->\n",
    "\n",
    "We want to check whether events predicted by 538 to occur with probability _close to_ X% actually occured about X% of the time.  To do this, we have to define _close_.\n",
    "\n",
    "First, we'll define the `cut_points` as 20 equally spaced numbers between 0 and 1 using `np.linspace`.  Then we'll group the predicted probabilities into the `19` equally spaced bins determined by those cut points.  Define the bin for each observation using the `pd.cut` function on the `probwin` variable.  Then, assign the result to column `bin` of `election_sub`. Use `include_lowest=True` when calling `pd.cut`.\n",
    "\n",
    "_Note: Can you spot the strange behavior of `include_lowest=True`? [Despite the output, `pd.cut` seems to work correctly](https://github.com/pandas-dev/pandas/issues/23164#issuecomment-510700455)_"
   ]
  },
  {
   "cell_type": "code",
   "execution_count": 10,
   "metadata": {},
   "outputs": [
    {
     "data": {
      "text/html": [
       "<div>\n",
       "<style scoped>\n",
       "    .dataframe tbody tr th:only-of-type {\n",
       "        vertical-align: middle;\n",
       "    }\n",
       "\n",
       "    .dataframe tbody tr th {\n",
       "        vertical-align: top;\n",
       "    }\n",
       "\n",
       "    .dataframe thead th {\n",
       "        text-align: right;\n",
       "    }\n",
       "</style>\n",
       "<table border=\"1\" class=\"dataframe\">\n",
       "  <thead>\n",
       "    <tr style=\"text-align: right;\">\n",
       "      <th></th>\n",
       "      <th>year</th>\n",
       "      <th>office</th>\n",
       "      <th>state</th>\n",
       "      <th>district</th>\n",
       "      <th>election_date</th>\n",
       "      <th>forecast_date</th>\n",
       "      <th>forecast_type</th>\n",
       "      <th>party</th>\n",
       "      <th>candidate</th>\n",
       "      <th>projected_voteshare</th>\n",
       "      <th>actual_voteshare</th>\n",
       "      <th>probwin</th>\n",
       "      <th>probwin_outcome</th>\n",
       "      <th>bin</th>\n",
       "    </tr>\n",
       "  </thead>\n",
       "  <tbody>\n",
       "    <tr>\n",
       "      <th>72268</th>\n",
       "      <td>2018</td>\n",
       "      <td>House</td>\n",
       "      <td>WY</td>\n",
       "      <td>1.0</td>\n",
       "      <td>2018-11-06</td>\n",
       "      <td>2018-11-06</td>\n",
       "      <td>classic</td>\n",
       "      <td>D</td>\n",
       "      <td>Greg Hunter</td>\n",
       "      <td>31.33293</td>\n",
       "      <td>NaN</td>\n",
       "      <td>0.00032</td>\n",
       "      <td>0</td>\n",
       "      <td>(-0.001, 0.0526]</td>\n",
       "    </tr>\n",
       "    <tr>\n",
       "      <th>72269</th>\n",
       "      <td>2018</td>\n",
       "      <td>House</td>\n",
       "      <td>WY</td>\n",
       "      <td>1.0</td>\n",
       "      <td>2018-11-06</td>\n",
       "      <td>2018-11-06</td>\n",
       "      <td>classic</td>\n",
       "      <td>R</td>\n",
       "      <td>Liz Cheney</td>\n",
       "      <td>63.15379</td>\n",
       "      <td>NaN</td>\n",
       "      <td>0.99968</td>\n",
       "      <td>1</td>\n",
       "      <td>(0.947, 1.0]</td>\n",
       "    </tr>\n",
       "    <tr>\n",
       "      <th>72274</th>\n",
       "      <td>2018</td>\n",
       "      <td>House</td>\n",
       "      <td>WV</td>\n",
       "      <td>3.0</td>\n",
       "      <td>2018-11-06</td>\n",
       "      <td>2018-11-06</td>\n",
       "      <td>classic</td>\n",
       "      <td>D</td>\n",
       "      <td>Richard Neece Ojeda</td>\n",
       "      <td>44.29584</td>\n",
       "      <td>NaN</td>\n",
       "      <td>0.07366</td>\n",
       "      <td>0</td>\n",
       "      <td>(0.0526, 0.105]</td>\n",
       "    </tr>\n",
       "    <tr>\n",
       "      <th>72275</th>\n",
       "      <td>2018</td>\n",
       "      <td>House</td>\n",
       "      <td>WV</td>\n",
       "      <td>3.0</td>\n",
       "      <td>2018-11-06</td>\n",
       "      <td>2018-11-06</td>\n",
       "      <td>classic</td>\n",
       "      <td>R</td>\n",
       "      <td>Carol Devine Miller</td>\n",
       "      <td>55.70416</td>\n",
       "      <td>NaN</td>\n",
       "      <td>0.92634</td>\n",
       "      <td>1</td>\n",
       "      <td>(0.895, 0.947]</td>\n",
       "    </tr>\n",
       "    <tr>\n",
       "      <th>72282</th>\n",
       "      <td>2018</td>\n",
       "      <td>House</td>\n",
       "      <td>WV</td>\n",
       "      <td>2.0</td>\n",
       "      <td>2018-11-06</td>\n",
       "      <td>2018-11-06</td>\n",
       "      <td>classic</td>\n",
       "      <td>D</td>\n",
       "      <td>Talley Sergent</td>\n",
       "      <td>43.09996</td>\n",
       "      <td>NaN</td>\n",
       "      <td>0.06562</td>\n",
       "      <td>0</td>\n",
       "      <td>(0.0526, 0.105]</td>\n",
       "    </tr>\n",
       "    <tr>\n",
       "      <th>...</th>\n",
       "      <td>...</td>\n",
       "      <td>...</td>\n",
       "      <td>...</td>\n",
       "      <td>...</td>\n",
       "      <td>...</td>\n",
       "      <td>...</td>\n",
       "      <td>...</td>\n",
       "      <td>...</td>\n",
       "      <td>...</td>\n",
       "      <td>...</td>\n",
       "      <td>...</td>\n",
       "      <td>...</td>\n",
       "      <td>...</td>\n",
       "      <td>...</td>\n",
       "    </tr>\n",
       "    <tr>\n",
       "      <th>326114</th>\n",
       "      <td>2018</td>\n",
       "      <td>House</td>\n",
       "      <td>AL</td>\n",
       "      <td>2.0</td>\n",
       "      <td>2018-11-06</td>\n",
       "      <td>2018-08-11</td>\n",
       "      <td>classic</td>\n",
       "      <td>R</td>\n",
       "      <td>Martha Roby</td>\n",
       "      <td>58.46975</td>\n",
       "      <td>NaN</td>\n",
       "      <td>0.97574</td>\n",
       "      <td>1</td>\n",
       "      <td>(0.947, 1.0]</td>\n",
       "    </tr>\n",
       "    <tr>\n",
       "      <th>326119</th>\n",
       "      <td>2018</td>\n",
       "      <td>House</td>\n",
       "      <td>AL</td>\n",
       "      <td>1.0</td>\n",
       "      <td>2018-11-06</td>\n",
       "      <td>2018-08-11</td>\n",
       "      <td>classic</td>\n",
       "      <td>D</td>\n",
       "      <td>Robert Kennedy</td>\n",
       "      <td>34.87751</td>\n",
       "      <td>NaN</td>\n",
       "      <td>0.00046</td>\n",
       "      <td>0</td>\n",
       "      <td>(-0.001, 0.0526]</td>\n",
       "    </tr>\n",
       "    <tr>\n",
       "      <th>326120</th>\n",
       "      <td>2018</td>\n",
       "      <td>House</td>\n",
       "      <td>AL</td>\n",
       "      <td>1.0</td>\n",
       "      <td>2018-11-06</td>\n",
       "      <td>2018-08-11</td>\n",
       "      <td>classic</td>\n",
       "      <td>R</td>\n",
       "      <td>Bradley Byrne</td>\n",
       "      <td>65.12249</td>\n",
       "      <td>NaN</td>\n",
       "      <td>0.99954</td>\n",
       "      <td>1</td>\n",
       "      <td>(0.947, 1.0]</td>\n",
       "    </tr>\n",
       "    <tr>\n",
       "      <th>326125</th>\n",
       "      <td>2018</td>\n",
       "      <td>House</td>\n",
       "      <td>AK</td>\n",
       "      <td>1.0</td>\n",
       "      <td>2018-11-06</td>\n",
       "      <td>2018-08-11</td>\n",
       "      <td>classic</td>\n",
       "      <td>D</td>\n",
       "      <td>Alyse S. Galvin</td>\n",
       "      <td>43.98304</td>\n",
       "      <td>NaN</td>\n",
       "      <td>0.27064</td>\n",
       "      <td>0</td>\n",
       "      <td>(0.263, 0.316]</td>\n",
       "    </tr>\n",
       "    <tr>\n",
       "      <th>326126</th>\n",
       "      <td>2018</td>\n",
       "      <td>House</td>\n",
       "      <td>AK</td>\n",
       "      <td>1.0</td>\n",
       "      <td>2018-11-06</td>\n",
       "      <td>2018-08-11</td>\n",
       "      <td>classic</td>\n",
       "      <td>R</td>\n",
       "      <td>Don Young</td>\n",
       "      <td>49.43467</td>\n",
       "      <td>NaN</td>\n",
       "      <td>0.72936</td>\n",
       "      <td>1</td>\n",
       "      <td>(0.684, 0.737]</td>\n",
       "    </tr>\n",
       "  </tbody>\n",
       "</table>\n",
       "<p>1920 rows × 14 columns</p>\n",
       "</div>"
      ],
      "text/plain": [
       "        year office state  district election_date forecast_date forecast_type  \\\n",
       "72268   2018  House    WY       1.0    2018-11-06    2018-11-06       classic   \n",
       "72269   2018  House    WY       1.0    2018-11-06    2018-11-06       classic   \n",
       "72274   2018  House    WV       3.0    2018-11-06    2018-11-06       classic   \n",
       "72275   2018  House    WV       3.0    2018-11-06    2018-11-06       classic   \n",
       "72282   2018  House    WV       2.0    2018-11-06    2018-11-06       classic   \n",
       "...      ...    ...   ...       ...           ...           ...           ...   \n",
       "326114  2018  House    AL       2.0    2018-11-06    2018-08-11       classic   \n",
       "326119  2018  House    AL       1.0    2018-11-06    2018-08-11       classic   \n",
       "326120  2018  House    AL       1.0    2018-11-06    2018-08-11       classic   \n",
       "326125  2018  House    AK       1.0    2018-11-06    2018-08-11       classic   \n",
       "326126  2018  House    AK       1.0    2018-11-06    2018-08-11       classic   \n",
       "\n",
       "       party            candidate  projected_voteshare  actual_voteshare  \\\n",
       "72268      D          Greg Hunter             31.33293               NaN   \n",
       "72269      R           Liz Cheney             63.15379               NaN   \n",
       "72274      D  Richard Neece Ojeda             44.29584               NaN   \n",
       "72275      R  Carol Devine Miller             55.70416               NaN   \n",
       "72282      D       Talley Sergent             43.09996               NaN   \n",
       "...      ...                  ...                  ...               ...   \n",
       "326114     R          Martha Roby             58.46975               NaN   \n",
       "326119     D       Robert Kennedy             34.87751               NaN   \n",
       "326120     R        Bradley Byrne             65.12249               NaN   \n",
       "326125     D      Alyse S. Galvin             43.98304               NaN   \n",
       "326126     R            Don Young             49.43467               NaN   \n",
       "\n",
       "        probwin  probwin_outcome               bin  \n",
       "72268   0.00032                0  (-0.001, 0.0526]  \n",
       "72269   0.99968                1      (0.947, 1.0]  \n",
       "72274   0.07366                0   (0.0526, 0.105]  \n",
       "72275   0.92634                1    (0.895, 0.947]  \n",
       "72282   0.06562                0   (0.0526, 0.105]  \n",
       "...         ...              ...               ...  \n",
       "326114  0.97574                1      (0.947, 1.0]  \n",
       "326119  0.00046                0  (-0.001, 0.0526]  \n",
       "326120  0.99954                1      (0.947, 1.0]  \n",
       "326125  0.27064                0    (0.263, 0.316]  \n",
       "326126  0.72936                1    (0.684, 0.737]  \n",
       "\n",
       "[1920 rows x 14 columns]"
      ]
     },
     "execution_count": 10,
     "metadata": {},
     "output_type": "execute_result"
    }
   ],
   "source": [
    "cut_points = np.linspace(0, 1, num=20)\n",
    "election_sub['bin'] = pd.cut(election_sub[\"probwin\"], cut_points, include_lowest=True)\n",
    "election_sub"
   ]
  },
  {
   "cell_type": "code",
   "execution_count": 11,
   "metadata": {
    "deletable": false,
    "editable": false
   },
   "outputs": [
    {
     "data": {
      "text/html": [
       "\n",
       "    <p><strong>q1c</strong> passed!</p>\n",
       "    "
      ],
      "text/plain": [
       "q1c passed!"
      ]
     },
     "execution_count": 11,
     "metadata": {},
     "output_type": "execute_result"
    }
   ],
   "source": [
    "grader.check(\"q1c\")"
   ]
  },
  {
   "cell_type": "markdown",
   "metadata": {},
   "source": [
    "## Question 2: Looking for Insights"
   ]
  },
  {
   "cell_type": "markdown",
   "metadata": {
    "deletable": false,
    "editable": false,
    "tags": []
   },
   "source": [
    "### Question 2a: Calculate Change in Support\n",
    "\n",
    "Let's see if we can find the candidates whose standings change the most between August 11 and November 6: one with largest improvement and another with largest decrease in win-probability. First, use the `agg` function calculate the difference.\n",
    "\n",
    "Following functions have been useful for me:\n",
    "\n",
    "* [`numpy.diff`](https://docs.scipy.org/doc/numpy/reference/generated/numpy.diff.html)\n",
    "* [`pandas.DataFrame.sort_values`](https://pandas.pydata.org/pandas-docs/stable/reference/api/pandas.DataFrame.sort_values.html)\n",
    "* [`pandas.DataFrame.groupby`](https://pandas.pydata.org/pandas-docs/stable/reference/api/pandas.DataFrame.groupby.html)\n",
    "* [`pandas.DataFrame.agg`](https://pandas.pydata.org/pandas-docs/stable/reference/api/pandas.DataFrame.agg.html): especially, [different functions to columns](https://pandas.pydata.org/pandas-docs/stable/user_guide/groupby.html#applying-different-functions-to-dataframe-columns) \n",
    "\n",
    "Save the resulting DataFrame from `agg()` to a variable, `probwin_change`. \n",
    "\n",
    "<!--\n",
    "BEGIN QUESTION\n",
    "name: q2a\n",
    "manual: false\n",
    "points: 5\n",
    "-->"
   ]
  },
  {
   "cell_type": "code",
   "execution_count": 12,
   "metadata": {},
   "outputs": [],
   "source": [
    "probwin_change = election_sub.sort_values(by=['forecast_date']).groupby('candidate').agg({\"probwin\": np.diff})"
   ]
  },
  {
   "cell_type": "code",
   "execution_count": 13,
   "metadata": {
    "deletable": false,
    "editable": false
   },
   "outputs": [
    {
     "data": {
      "text/html": [
       "\n",
       "    <p><strong>q2a</strong> passed!</p>\n",
       "    "
      ],
      "text/plain": [
       "q2a passed!"
      ]
     },
     "execution_count": 13,
     "metadata": {},
     "output_type": "execute_result"
    }
   ],
   "source": [
    "grader.check(\"q2a\")"
   ]
  },
  {
   "cell_type": "markdown",
   "metadata": {
    "deletable": false,
    "editable": false,
    "tags": []
   },
   "source": [
    "### Question 2b: Looking for Largest Changes\n",
    "\n",
    "Now, save the name of the candidates to string variables `rising_candidate` (largest increase) and `falling_candidate` (largest decrease).\n",
    "\n",
    "* [`pandas.DataFrmae.idxmax`](https://pandas.pydata.org/pandas-docs/stable/reference/api/pandas.DataFrame.idxmax.html)\n",
    "* [`pandas.DataFrmae.idxmin`](https://pandas.pydata.org/pandas-docs/stable/reference/api/pandas.DataFrame.idxmin.html)\n",
    "\n",
    "<!--\n",
    "BEGIN QUESTION\n",
    "name: q2b\n",
    "manual: false\n",
    "points: 3\n",
    "-->"
   ]
  },
  {
   "cell_type": "code",
   "execution_count": 14,
   "metadata": {},
   "outputs": [],
   "source": [
    "rising_candidate = probwin_change.idxmax()[0]\n",
    "falling_candidate = probwin_change.idxmin()[0]"
   ]
  },
  {
   "cell_type": "code",
   "execution_count": 15,
   "metadata": {
    "deletable": false,
    "editable": false
   },
   "outputs": [
    {
     "data": {
      "text/html": [
       "\n",
       "    <p><strong>q2b</strong> passed!</p>\n",
       "    "
      ],
      "text/plain": [
       "q2b passed!"
      ]
     },
     "execution_count": 15,
     "metadata": {},
     "output_type": "execute_result"
    }
   ],
   "source": [
    "grader.check(\"q2b\")"
   ]
  },
  {
   "cell_type": "markdown",
   "metadata": {
    "deletable": false,
    "editable": false
   },
   "source": [
    "<!-- BEGIN QUESTION -->\n",
    "\n",
    "### Question 2c: Verify Outcome\n",
    "\n",
    "Did the candidate win or lose the election? Verify with election outcome.\n",
    "<!--\n",
    "BEGIN QUESTION\n",
    "name: q2c\n",
    "manual: true\n",
    "points: 5\n",
    "-->"
   ]
  },
  {
   "cell_type": "markdown",
   "metadata": {},
   "source": [
    "The candidate with the largest increase won the election. The candidate with the largest decrease lost the election. The election outcomes are shown below."
   ]
  },
  {
   "cell_type": "code",
   "execution_count": 16,
   "metadata": {},
   "outputs": [
    {
     "name": "stdout",
     "output_type": "stream",
     "text": [
      "Rising candidate:  Sharice Davids  / Outcome:  1\n",
      "Falling candidate:  Kevin Yoder  / Outcome:  0\n"
     ]
    }
   ],
   "source": [
    "risingwin = election_sub.query(\"candidate=='Sharice Davids'\").query(\"forecast_date=='2018-11-06'\")[\"probwin_outcome\"]\n",
    "fallingwin = election_sub.query(\"candidate=='Kevin Yoder'\").query(\"forecast_date=='2018-11-06'\")[\"probwin_outcome\"]\n",
    "print(\"Rising candidate: \", rising_candidate, \" / Outcome: \", int(risingwin))\n",
    "print(\"Falling candidate: \", falling_candidate, \" / Outcome: \", int(fallingwin))"
   ]
  },
  {
   "cell_type": "markdown",
   "metadata": {},
   "source": [
    "<!-- END QUESTION -->\n",
    "\n",
    "\n",
    "\n",
    "## Prediction vs Actual Outcomes"
   ]
  },
  {
   "cell_type": "markdown",
   "metadata": {
    "deletable": false,
    "editable": false
   },
   "source": [
    "<!-- BEGIN QUESTION -->\n",
    "\n",
    "### Question 3a: Prediction Histogram\n",
    "\n",
    "Make a histogram showing the predicted win probabilities _on the morning of the election._  Again, restrict yourself to only the `classic` predictions.\n",
    "\n",
    "<!--\n",
    "BEGIN QUESTION\n",
    "name: q3a\n",
    "manual: true\n",
    "points: 5\n",
    "-->"
   ]
  },
  {
   "cell_type": "code",
   "execution_count": 17,
   "metadata": {},
   "outputs": [
    {
     "data": {
      "text/plain": [
       "array([[<AxesSubplot:title={'center':'probwin'}>]], dtype=object)"
      ]
     },
     "execution_count": 17,
     "metadata": {},
     "output_type": "execute_result"
    },
    {
     "data": {
      "image/png": "[encoded data removed]",
      "text/plain": [
       "<Figure size 432x288 with 1 Axes>"
      ]
     },
     "metadata": {
      "needs_background": "light"
     },
     "output_type": "display_data"
    }
   ],
   "source": [
    "election_sub.query(\"forecast_type == 'classic'\").hist(column='probwin')"
   ]
  },
  {
   "cell_type": "markdown",
   "metadata": {
    "deletable": false,
    "editable": false
   },
   "source": [
    "<!-- END QUESTION -->\n",
    "\n",
    "<!-- BEGIN QUESTION -->\n",
    "\n",
    "### Question 3b: Prediction difficulty \n",
    "\n",
    "Are most house elections easy to forecast or hard to forecast? State your reasoning.\n",
    "\n",
    "<!--\n",
    "BEGIN QUESTION\n",
    "name: q3b\n",
    "manual: true\n",
    "points: 5\n",
    "-->"
   ]
  },
  {
   "cell_type": "markdown",
   "metadata": {},
   "source": [
    "I would say most house elections are hard to forecast, as various factors go into a candidate's popularity and all have to be accounted for. The polls can shift drastically day by day depending on a candidate's choices as well."
   ]
  },
  {
   "cell_type": "markdown",
   "metadata": {
    "deletable": false,
    "editable": false
   },
   "source": [
    "<!-- END QUESTION -->\n",
    "\n",
    "### Question 4a: Compute Actual Outcomes\n",
    "\n",
    "Now we've grouped the observations into a discrete set of bins according to the predicted probability, `probwin`.  Within each bin, we now want to compute the actual fraction of times the candidates won.\n",
    "\n",
    "If 538 did a good job, it will be close to the predited probabilities.  You'll need to use the `groupby` function to compute the mean of `probwin_outcome` (1 is a win and 0 is a loss) within each bin. Once again you can use `agg` method here.  \n",
    "\n",
    "Save the fraction of actual wins in each bin in a list called `fraction_outcome`.\n",
    "\n",
    "<!--\n",
    "BEGIN QUESTION\n",
    "name: q4a\n",
    "manual: false\n",
    "points: 5\n",
    "-->"
   ]
  },
  {
   "cell_type": "code",
   "execution_count": 18,
   "metadata": {},
   "outputs": [],
   "source": [
    "fraction_outcome = election_sub.groupby(\"bin\").agg({\"probwin_outcome\": np.mean})"
   ]
  },
  {
   "cell_type": "code",
   "execution_count": 19,
   "metadata": {
    "deletable": false,
    "editable": false
   },
   "outputs": [
    {
     "data": {
      "text/html": [
       "\n",
       "    <p><strong>q4a</strong> passed!</p>\n",
       "    "
      ],
      "text/plain": [
       "q4a passed!"
      ]
     },
     "execution_count": 19,
     "metadata": {},
     "output_type": "execute_result"
    }
   ],
   "source": [
    "grader.check(\"q4a\")"
   ]
  },
  {
   "cell_type": "markdown",
   "metadata": {
    "deletable": false,
    "editable": false
   },
   "source": [
    "### Question 4b: Preparing to Present Results\n",
    "\n",
    "<!--\n",
    "BEGIN QUESTION\n",
    "name: q4b\n",
    "manual: false\n",
    "points: 5\n",
    "-->\n",
    "\n",
    "For this problem we'll make a plot of the predicted probabilities and actual fraction of wins in each bin.  We've already computed the actual fraction of wins; all that remains is to plot it against the predicted value assocaited with each bin.\n",
    "\n",
    "For the predicted value in each bin, using the midpoint of the bin would make sense.  Compute the midpoints of each bin from `cut_points`."
   ]
  },
  {
   "cell_type": "code",
   "execution_count": 20,
   "metadata": {},
   "outputs": [],
   "source": [
    "midpoints = (cut_points[1:] + cut_points[:-1]) / 2"
   ]
  },
  {
   "cell_type": "code",
   "execution_count": 21,
   "metadata": {
    "deletable": false,
    "editable": false
   },
   "outputs": [
    {
     "data": {
      "text/html": [
       "\n",
       "    <p><strong>q4b</strong> passed!</p>\n",
       "    "
      ],
      "text/plain": [
       "q4b passed!"
      ]
     },
     "execution_count": 21,
     "metadata": {},
     "output_type": "execute_result"
    }
   ],
   "source": [
    "grader.check(\"q4b\")"
   ]
  },
  {
   "cell_type": "markdown",
   "metadata": {
    "deletable": false,
    "editable": false
   },
   "source": [
    "<!-- BEGIN QUESTION -->\n",
    "\n",
    "### Question 4c: Visualize Results\n",
    "\n",
    "<!--\n",
    "BEGIN QUESTION\n",
    "name: q4c\n",
    "manual: true \n",
    "points: 5\n",
    "-->\n",
    "\n",
    "Now make a scatterplot using `midpoints` as the x variable and `fraction_outcome` as the y variable.  Draw a dashed line from `[0,0]` to `[1,1]` to mark the line y=x.  "
   ]
  },
  {
   "cell_type": "code",
   "execution_count": 22,
   "metadata": {},
   "outputs": [
    {
     "data": {
      "text/plain": [
       "[<matplotlib.lines.Line2D at 0x7f6244160ac0>]"
      ]
     },
     "execution_count": 22,
     "metadata": {},
     "output_type": "execute_result"
    },
    {
     "data": {
      "image/png": "[encoded data removed]",
      "text/plain": [
       "<Figure size 432x288 with 1 Axes>"
      ]
     },
     "metadata": {
      "needs_background": "light"
     },
     "output_type": "display_data"
    }
   ],
   "source": [
    "# magic for showing figures inline\n",
    "%matplotlib inline\n",
    "import matplotlib.pyplot as plt\n",
    "x = np.linspace(0, 1, 10)\n",
    "y = x\n",
    "plt.scatter(midpoints, fraction_outcome, color='darkturquoise')\n",
    "plt.plot(x, y, linestyle='dashed', color='gold')"
   ]
  },
  {
   "cell_type": "markdown",
   "metadata": {},
   "source": [
    "<!-- END QUESTION -->\n",
    "\n",
    "\n",
    "\n",
    "## Quantifying Uncertainty"
   ]
  },
  {
   "cell_type": "markdown",
   "metadata": {
    "deletable": false,
    "editable": false
   },
   "source": [
    "### Question 5a: Model-based Error Estimation\n",
    "\n",
    "If you did things correctly, it should look like fivethirtyeight has done \"pretty\" well with their forecasts: the actual fraction of wins tracks closely with the predicted number.\n",
    "\n",
    "But how do we decide what's \"good enough\"? Consider this example: I correctly predict that a coin is fair (e.g. that it has a 50% chance of heads, 50% chance of tails).  But if I flip it 100 times, I can be pretty sure it won't come up heads exactly 50 times.  The fact that heads didn't come up exactly 50 times doesn't make my prediction incorrect.\n",
    "\n",
    "To assess how reasonable the predictions are, I need to quantify the uncertainty in my estimate.  It's reasonable to assume that within each bin, $k$, the observed number of wins, $Y_k \\sim \\text{Binomial}\\,(n_k, p_k)$, where $n_k$ is the number of elections and $p_k$ is the predicted win probability in bin $k$.\n",
    "\n",
    "Classical results tell us that the obseved fraction of wins in bin $k$, $\\hat p = \\frac{Y_k}{n_k}$ has variance $\\operatorname{Var}\\left(\\hat p_k\\right) = \\frac{p_k (1-p_k)}{n_k} \\approx \\frac{\\hat p_k(1- \\hat p_k)}{n_k}$.  The standard deviation of the Binomial proportion then is $\\hat \\sigma_k \\approx \\sqrt{\\frac{\\hat p_k(1- \\hat p_k)}{n_k}}$.  \n",
    "\n",
    "If we use the [normal approximation to generate a confidence interval](https://en.wikipedia.org/wiki/Binomial_proportion_confidence_interval#Normal_approximation_interval), then the 95% interval has the form $\\hat p_k \\pm 1.96 \\hat \\sigma_k$.\n",
    "\n",
    "Create a new \"aggregated\" dataframe named `election_agg`.  Take `election_sub`, group by `bin` and compute both the average of the `probwin_outcome` (`mean`) and the number of observations in each bin (`count`) using the `agg` function.  Call this new data frame, `election_agg`.\n",
    "\n",
    "THen, use the `mean` and `count` columns of `election_agg` to create a new column of `election_agg` titled `err`, which stores $1.96 \\times \\hat \\sigma_k$ in each bin $k$.\n",
    "\n",
    "<!--\n",
    "BEGIN QUESTION\n",
    "name: q5a\n",
    "manual: false\n",
    "points: 3\n",
    "-->"
   ]
  },
  {
   "cell_type": "code",
   "execution_count": 23,
   "metadata": {},
   "outputs": [],
   "source": [
    "election_agg = election_sub.groupby(\"bin\")[\"probwin_outcome\"].agg(['mean', 'count'])\n",
    "election_agg['err'] = 1.96 * np.sqrt((election_agg['mean']*(1 - election_agg['mean']))/election_agg['count'])"
   ]
  },
  {
   "cell_type": "code",
   "execution_count": 24,
   "metadata": {
    "deletable": false,
    "editable": false
   },
   "outputs": [
    {
     "data": {
      "text/html": [
       "\n",
       "    <p><strong>q5a</strong> passed!</p>\n",
       "    "
      ],
      "text/plain": [
       "q5a passed!"
      ]
     },
     "execution_count": 24,
     "metadata": {},
     "output_type": "execute_result"
    }
   ],
   "source": [
    "grader.check(\"q5a\")"
   ]
  },
  {
   "cell_type": "markdown",
   "metadata": {
    "deletable": false,
    "editable": false
   },
   "source": [
    "<!-- BEGIN QUESTION -->\n",
    "\n",
    "### Question 5b: Visualize Error Bars 1\n",
    "\n",
    "Use `plt.errorbar` to create a new plot with error bars associated with the actual fraction of wins in each bin.  Again add a dashed y=x line.  Set the argument `fmt='.'` to create a scatterplot with errorbars.\n",
    "\n",
    "<!--\n",
    "BEGIN QUESTION\n",
    "name: q5b\n",
    "manual: true\n",
    "points: 5\n",
    "-->"
   ]
  },
  {
   "cell_type": "code",
   "execution_count": 25,
   "metadata": {},
   "outputs": [
    {
     "data": {
      "text/plain": [
       "[<matplotlib.lines.Line2D at 0x7f62440ff0d0>]"
      ]
     },
     "execution_count": 25,
     "metadata": {},
     "output_type": "execute_result"
    },
    {
     "data": {
      "image/png": "[encoded data removed]",
      "text/plain": [
       "<Figure size 432x288 with 1 Axes>"
      ]
     },
     "metadata": {
      "needs_background": "light"
     },
     "output_type": "display_data"
    }
   ],
   "source": [
    "# Plotting code below\n",
    "plt.errorbar(midpoints, fraction_outcome.values, color='darkturquoise', fmt='.', yerr=election_agg['err'].values)\n",
    "plt.plot(x, y, linestyle='dashed', color='gold')"
   ]
  },
  {
   "cell_type": "markdown",
   "metadata": {
    "deletable": false,
    "editable": false
   },
   "source": [
    "<!-- END QUESTION -->\n",
    "\n",
    "### Question 5c: Computing Coverage\n",
    "\n",
    "If our intervals were true 95% confidence intervals, then we would expect about 95% of them to cover the midpoint of the bin (i.e. overlap with the y=x line).\n",
    "\n",
    "What fraction of the 95% confidence intervals cover the bin midpoint?  Create a variable, `upper`, to be the `mean` + `err` and another, `lower`, to be `mean` - `err` (both `upper` and `lower` should pandas series). Next, compute `frac_covering` as the fraction of midpoints between `lower` and `upper`. \n",
    "\n",
    "<!--\n",
    "BEGIN QUESTION\n",
    "name: q5c\n",
    "manual: false\n",
    "points: 5\n",
    "-->"
   ]
  },
  {
   "cell_type": "code",
   "execution_count": 26,
   "metadata": {},
   "outputs": [
    {
     "data": {
      "text/plain": [
       "0.6842105263157895"
      ]
     },
     "execution_count": 26,
     "metadata": {},
     "output_type": "execute_result"
    }
   ],
   "source": [
    "upper = pd.Series(election_agg['mean'] + election_agg['err'])\n",
    "lower = pd.Series(election_agg['mean'] - election_agg['err'])\n",
    "fracBool = []\n",
    "for i in range(19):\n",
    "    fracBool.append(lower[i] < midpoints[i] < upper[i])\n",
    "frac_covering = (fracBool.count(True))/19\n",
    "frac_covering"
   ]
  },
  {
   "cell_type": "code",
   "execution_count": 27,
   "metadata": {
    "deletable": false,
    "editable": false
   },
   "outputs": [
    {
     "data": {
      "text/html": [
       "\n",
       "    <p><strong>q5c</strong> passed!</p>\n",
       "    "
      ],
      "text/plain": [
       "q5c passed!"
      ]
     },
     "execution_count": 27,
     "metadata": {},
     "output_type": "execute_result"
    }
   ],
   "source": [
    "grader.check(\"q5c\")"
   ]
  },
  {
   "cell_type": "markdown",
   "metadata": {
    "deletable": false,
    "editable": false
   },
   "source": [
    "<!-- BEGIN QUESTION -->\n",
    "\n",
    "### Question 5d: Understanding Confidence Intervals\n",
    "\n",
    "Are the 95% confidence intervals generally larger or smaller for more confident predictions (e.g. the predictions closer to 0 or 1).  What are the factors that determine the length of the confidence intervals?\n",
    "\n",
    "<!--\n",
    "BEGIN QUESTION\n",
    "name: q5d\n",
    "manual: true\n",
    "points: 5\n",
    "-->"
   ]
  },
  {
   "cell_type": "markdown",
   "metadata": {},
   "source": [
    "The confidence intervals are overall smaller for more confident predictions. Larger sample sizes decrease length of confidence intervals as they can be constructed on more data. Low variability also decreases the length of the confidence intervals. On the other hand, high variability or small sample size means that confidence intervals will cover a larger segment of data."
   ]
  },
  {
   "cell_type": "markdown",
   "metadata": {},
   "source": [
    "<!-- END QUESTION -->\n",
    "\n",
    "\n",
    "\n",
    "_Intentionally Blank_"
   ]
  },
  {
   "cell_type": "markdown",
   "metadata": {
    "deletable": false,
    "editable": false
   },
   "source": [
    "### (PSTAT 234) Question 5e: Empirical Uncertainty Estimation\n",
    "\n",
    "Model-based error bars were calculated by assuming that election outcomes are Binomial random variables. However, we can also estimate the error bars from resampling the data. This can be useful if we do not have a good distributional about the election outcomes, for example.\n",
    "\n",
    "Write a function named `bootstrap_data_means` that can take a data frame, say `data_in`, as input. Suppose `data_in` has `n` rows. Inside `bootstrap_data_means` function, you will\n",
    "\n",
    "* [`numpy.random.Generator.choice`](https://docs.scipy.org/doc/numpy/reference/random/generated/numpy.random.Generator.choice.html?highlight=random%20choice#numpy.random.Generator.choice): Select `n`-rows of `data_in` at random _with replacement_, creating a pseudo-dataset\n",
    "* `agg`: Group by each `bin`, compute probabilities of success for each pseudo-dataset as you have done\n",
    "\n",
    "\n",
    "Then, run the function `bootstrap_data_means` function 100 times, storing the resulting 100 DataFrames in a list. Then, create a data frame `bootstrap_election_100_agg` using `pandas.concat`:\n",
    "\n",
    "* Python list comprehension: https://docs.python.org/3/tutorial/datastructures.html#list-comprehensions\n",
    "* [`pandas.concat`](https://pandas.pydata.org/pandas-docs/stable/reference/api/pandas.concat.html): Concatenate many DataFrames together.  \n",
    "    Especially, the example, _Combine two DataFrame objects with identical columns._, in https://pandas.pydata.org/pandas-docs/stable/reference/api/pandas.concat.html could be helpful.\n",
    "\n",
    "<!--\n",
    "BEGIN QUESTION\n",
    "name: q5e\n",
    "manual: false\n",
    "points: 5\n",
    "-->"
   ]
  },
  {
   "cell_type": "code",
   "execution_count": 28,
   "metadata": {},
   "outputs": [],
   "source": [
    "def bootstrap_data_means(data_in):\n",
    "    \n",
    "    from numpy.random import choice\n",
    "    \n",
    "    n = len(data_in)\n",
    "    \n",
    "    # randomly sample row indices with replacement\n",
    "    indx = ...\n",
    "    # compute probabilities of success\n",
    "    bootstrap_means = ...\n",
    "    \n",
    "    return(bootstrap_means)\n",
    "\n",
    "bootstrap_election_100_agg = ..."
   ]
  },
  {
   "cell_type": "code",
   "execution_count": 29,
   "metadata": {
    "deletable": false,
    "editable": false
   },
   "outputs": [
    {
     "data": {
      "text/html": [
       "\n",
       "    <p><strong style='color: red;'>q5e</strong></p>\n",
       "    <p><strong>Test result:</strong></p>\n",
       "    \n",
       "        <p><em>q5e - 1</em>\n",
       "        \n",
       "            <pre>Trying:\n",
       "    len(bootstrap_data_means(election_sub))\n",
       "Expecting:\n",
       "    19\n",
       "**********************************************************************\n",
       "Line 2, in q5e 0\n",
       "Failed example:\n",
       "    len(bootstrap_data_means(election_sub))\n",
       "Exception raised:\n",
       "    Traceback (most recent call last):\n",
       "      File \"/opt/conda/lib/python3.9/doctest.py\", line 1336, in __run\n",
       "        exec(compile(example.source, filename, \"single\",\n",
       "      File \"<doctest q5e 0[0]>\", line 1, in <module>\n",
       "        len(bootstrap_data_means(election_sub))\n",
       "    TypeError: object of type 'ellipsis' has no len()\n",
       "</pre>\n",
       "        \n",
       "        </p>\n",
       "    \n",
       "        <p><em>q5e - 2</em>\n",
       "        \n",
       "            <pre>Trying:\n",
       "    all(election_agg.index == bootstrap_data_means(election_sub).index)\n",
       "Expecting:\n",
       "    True\n",
       "**********************************************************************\n",
       "Line 2, in q5e 1\n",
       "Failed example:\n",
       "    all(election_agg.index == bootstrap_data_means(election_sub).index)\n",
       "Exception raised:\n",
       "    Traceback (most recent call last):\n",
       "      File \"/opt/conda/lib/python3.9/doctest.py\", line 1336, in __run\n",
       "        exec(compile(example.source, filename, \"single\",\n",
       "      File \"<doctest q5e 1[0]>\", line 1, in <module>\n",
       "        all(election_agg.index == bootstrap_data_means(election_sub).index)\n",
       "    AttributeError: 'ellipsis' object has no attribute 'index'\n",
       "</pre>\n",
       "        \n",
       "        </p>\n",
       "    \n",
       "        <p><em>q5e - 3</em>\n",
       "        \n",
       "            <pre>Trying:\n",
       "    'mean' in bootstrap_data_means(election_sub).columns\n",
       "Expecting:\n",
       "    False\n",
       "**********************************************************************\n",
       "Line 2, in q5e 2\n",
       "Failed example:\n",
       "    'mean' in bootstrap_data_means(election_sub).columns\n",
       "Exception raised:\n",
       "    Traceback (most recent call last):\n",
       "      File \"/opt/conda/lib/python3.9/doctest.py\", line 1336, in __run\n",
       "        exec(compile(example.source, filename, \"single\",\n",
       "      File \"<doctest q5e 2[0]>\", line 1, in <module>\n",
       "        'mean' in bootstrap_data_means(election_sub).columns\n",
       "    AttributeError: 'ellipsis' object has no attribute 'columns'\n",
       "</pre>\n",
       "        \n",
       "        </p>\n",
       "    \n",
       "        <p><em>q5e - 4</em>\n",
       "        \n",
       "            <pre>Trying:\n",
       "    bootstrap_election_100_agg.shape\n",
       "Expecting:\n",
       "    (19, 100)\n",
       "**********************************************************************\n",
       "Line 2, in q5e 3\n",
       "Failed example:\n",
       "    bootstrap_election_100_agg.shape\n",
       "Exception raised:\n",
       "    Traceback (most recent call last):\n",
       "      File \"/opt/conda/lib/python3.9/doctest.py\", line 1336, in __run\n",
       "        exec(compile(example.source, filename, \"single\",\n",
       "      File \"<doctest q5e 3[0]>\", line 1, in <module>\n",
       "        bootstrap_election_100_agg.shape\n",
       "    AttributeError: 'ellipsis' object has no attribute 'shape'\n",
       "</pre>\n",
       "        \n",
       "        </p>\n",
       "    \n",
       "    "
      ],
      "text/plain": [
       "q5e results:\n",
       "\n",
       "Trying:\n",
       "    len(bootstrap_data_means(election_sub))\n",
       "Expecting:\n",
       "    19\n",
       "**********************************************************************\n",
       "Line 2, in q5e 0\n",
       "Failed example:\n",
       "    len(bootstrap_data_means(election_sub))\n",
       "Exception raised:\n",
       "    Traceback (most recent call last):\n",
       "      File \"/opt/conda/lib/python3.9/doctest.py\", line 1336, in __run\n",
       "        exec(compile(example.source, filename, \"single\",\n",
       "      File \"<doctest q5e 0[0]>\", line 1, in <module>\n",
       "        len(bootstrap_data_means(election_sub))\n",
       "    TypeError: object of type 'ellipsis' has no len()\n",
       "\n",
       "Trying:\n",
       "    all(election_agg.index == bootstrap_data_means(election_sub).index)\n",
       "Expecting:\n",
       "    True\n",
       "**********************************************************************\n",
       "Line 2, in q5e 1\n",
       "Failed example:\n",
       "    all(election_agg.index == bootstrap_data_means(election_sub).index)\n",
       "Exception raised:\n",
       "    Traceback (most recent call last):\n",
       "      File \"/opt/conda/lib/python3.9/doctest.py\", line 1336, in __run\n",
       "        exec(compile(example.source, filename, \"single\",\n",
       "      File \"<doctest q5e 1[0]>\", line 1, in <module>\n",
       "        all(election_agg.index == bootstrap_data_means(election_sub).index)\n",
       "    AttributeError: 'ellipsis' object has no attribute 'index'\n",
       "\n",
       "Trying:\n",
       "    'mean' in bootstrap_data_means(election_sub).columns\n",
       "Expecting:\n",
       "    False\n",
       "**********************************************************************\n",
       "Line 2, in q5e 2\n",
       "Failed example:\n",
       "    'mean' in bootstrap_data_means(election_sub).columns\n",
       "Exception raised:\n",
       "    Traceback (most recent call last):\n",
       "      File \"/opt/conda/lib/python3.9/doctest.py\", line 1336, in __run\n",
       "        exec(compile(example.source, filename, \"single\",\n",
       "      File \"<doctest q5e 2[0]>\", line 1, in <module>\n",
       "        'mean' in bootstrap_data_means(election_sub).columns\n",
       "    AttributeError: 'ellipsis' object has no attribute 'columns'\n",
       "\n",
       "Trying:\n",
       "    bootstrap_election_100_agg.shape\n",
       "Expecting:\n",
       "    (19, 100)\n",
       "**********************************************************************\n",
       "Line 2, in q5e 3\n",
       "Failed example:\n",
       "    bootstrap_election_100_agg.shape\n",
       "Exception raised:\n",
       "    Traceback (most recent call last):\n",
       "      File \"/opt/conda/lib/python3.9/doctest.py\", line 1336, in __run\n",
       "        exec(compile(example.source, filename, \"single\",\n",
       "      File \"<doctest q5e 3[0]>\", line 1, in <module>\n",
       "        bootstrap_election_100_agg.shape\n",
       "    AttributeError: 'ellipsis' object has no attribute 'shape'"
      ]
     },
     "execution_count": 29,
     "metadata": {},
     "output_type": "execute_result"
    }
   ],
   "source": [
    "grader.check(\"q5e\")"
   ]
  },
  {
   "cell_type": "markdown",
   "metadata": {
    "deletable": false,
    "editable": false
   },
   "source": [
    "<!-- BEGIN QUESTION -->\n",
    "\n",
    "### (PSTAT 234) Question 5f. Visualize Error Bars 2\n",
    "\n",
    "By now, we have a distribution of success probabilities saved in `bootstrap_election_agg`. We can compute empirical error bars from 2.5% and 97.5% quantiles. Write function named `bootstrap_error_bars` that can be used to calculate the following columns:\n",
    "\n",
    "* `mean`: mean of probabilities of success\n",
    "* `err_low`: low point of the error bars\n",
    "* `err_high`: high point of the error bars\n",
    "\n",
    "Funtion `bootstrap_error_bars` is to be called by using `bootstrap_election_100_agg.apply(bootstrap_error_bars, ...)`.\n",
    "\n",
    "<!--\n",
    "BEGIN QUESTION\n",
    "name: q5f\n",
    "manual: true\n",
    "points: 5\n",
    "-->"
   ]
  },
  {
   "cell_type": "code",
   "execution_count": 30,
   "metadata": {},
   "outputs": [],
   "source": [
    "def bootstrap_error_bars(x):\n",
    "    out = pd.Series([x.mean(), x.mean()-x.quantile(0.025), x.quantile(0.975)-x.mean()], \n",
    "                    index=['mean', 'err_low', 'err_high'])\n",
    "    return(out)"
   ]
  },
  {
   "cell_type": "markdown",
   "metadata": {},
   "source": [
    "<!-- END QUESTION -->\n",
    "\n",
    "\n",
    "\n",
    "Use [`pandas.DataFrame.apply`](https://pandas.pydata.org/pandas-docs/stable/reference/api/pandas.DataFrame.apply.html) and `bootstrap_error_bars` functions to calculate and visualize the error bars.\n",
    "\n",
    "In addition, to the figure code used in 5b, add horizontal lines at 0 and 1."
   ]
  },
  {
   "cell_type": "code",
   "execution_count": 31,
   "metadata": {},
   "outputs": [
    {
     "data": {
      "image/png": "[encoded data removed]",
      "text/plain": [
       "<Figure size 720x720 with 1 Axes>"
      ]
     },
     "metadata": {
      "needs_background": "light"
     },
     "output_type": "display_data"
    }
   ],
   "source": [
    "# calculate error bars\n",
    "bootstrap_election_agg = ...\n",
    "\n",
    "plt.figure(figsize=(10, 10))\n",
    "plt.errorbar(midpoints, \n",
    "             election_agg['mean'].values, \n",
    "             yerr=election_agg['err'].values, \n",
    "             fmt='.', elinewidth=3, ms=20, \n",
    "             capsize=5, capthick=3)\n",
    "plt.plot([0, 1], [0, 1], '--')\n",
    "plt.plot([0, 1], [1, 1], ':r')\n",
    "plt.plot([0, 1], [0, 0], ':r')\n",
    "plt.xlabel(\"Predicted Win Probability\")\n",
    "plt.ylabel(\"Observed Win Probability\")\n",
    "# Overlay empirical error bars on the same plot. Use the following \n",
    "# visual attributes: \n",
    "# ..., fmt='.r', elinewidth=1, ms=10, ecolor='red', capsize=5, ...\n",
    "# Also, yerr can accept asymmetric errorbars (see the documentation for usage)\n",
    "...\n",
    "plt.show()"
   ]
  },
  {
   "cell_type": "markdown",
   "metadata": {
    "deletable": false,
    "editable": false
   },
   "source": [
    "<!-- BEGIN QUESTION -->\n",
    "\n",
    "### (PSTAT 234) Question 5g: Interpreting the Results\n",
    "\n",
    "Are the 95% confidence intervals generally larger or smaller for more confident predictions (e.g. the predictions closer to 0 or 1).  What are the factors that determine the length of the error bars?\n",
    "\n",
    "Compare and contrast model-based error bars and empirically obtained error bars. What are the advantages and disadvantages of these two approaches?\n",
    "\n",
    "<!--\n",
    "BEGIN QUESTION\n",
    "name: q5g\n",
    "manual: true\n",
    "points: 5\n",
    "-->"
   ]
  },
  {
   "cell_type": "markdown",
   "metadata": {},
   "source": [
    "_Type your answer here, replacing this text._"
   ]
  },
  {
   "cell_type": "markdown",
   "metadata": {},
   "source": [
    "<!-- END QUESTION -->\n",
    "\n",
    "\n",
    "\n",
    "_Intentionally Blank_"
   ]
  },
  {
   "cell_type": "markdown",
   "metadata": {
    "deletable": false,
    "editable": false
   },
   "source": [
    "---\n",
    "\n",
    "To double-check your work, the cell below will rerun all of the autograder tests."
   ]
  },
  {
   "cell_type": "code",
   "execution_count": 32,
   "metadata": {
    "deletable": false,
    "editable": false
   },
   "outputs": [
    {
     "data": {
      "text/html": [
       "\n",
       "    <p><strong>q1a</strong> passed!</p>\n",
       "    \n",
       "\n",
       "\n",
       "    <p><strong>q1b</strong> passed!</p>\n",
       "    \n",
       "\n",
       "\n",
       "    <p><strong>q1c</strong> passed!</p>\n",
       "    \n",
       "\n",
       "\n",
       "    <p><strong>q2a</strong> passed!</p>\n",
       "    \n",
       "\n",
       "\n",
       "    <p><strong>q2b</strong> passed!</p>\n",
       "    \n",
       "\n",
       "\n",
       "    <p><strong>q4a</strong> passed!</p>\n",
       "    \n",
       "\n",
       "\n",
       "    <p><strong>q4b</strong> passed!</p>\n",
       "    \n",
       "\n",
       "\n",
       "    <p><strong>q5a</strong> passed!</p>\n",
       "    \n",
       "\n",
       "\n",
       "    <p><strong>q5c</strong> passed!</p>\n",
       "    \n",
       "\n",
       "\n",
       "    <p><strong style='color: red;'>q5e</strong></p>\n",
       "    <p><strong>Test result:</strong></p>\n",
       "    \n",
       "        <p><em>q5e - 1</em>\n",
       "        \n",
       "            <pre>Trying:\n",
       "    len(bootstrap_data_means(election_sub))\n",
       "Expecting:\n",
       "    19\n",
       "**********************************************************************\n",
       "Line 2, in q5e 0\n",
       "Failed example:\n",
       "    len(bootstrap_data_means(election_sub))\n",
       "Exception raised:\n",
       "    Traceback (most recent call last):\n",
       "      File \"/opt/conda/lib/python3.9/doctest.py\", line 1336, in __run\n",
       "        exec(compile(example.source, filename, \"single\",\n",
       "      File \"<doctest q5e 0[0]>\", line 1, in <module>\n",
       "        len(bootstrap_data_means(election_sub))\n",
       "    TypeError: object of type 'ellipsis' has no len()\n",
       "</pre>\n",
       "        \n",
       "        </p>\n",
       "    \n",
       "        <p><em>q5e - 2</em>\n",
       "        \n",
       "            <pre>Trying:\n",
       "    all(election_agg.index == bootstrap_data_means(election_sub).index)\n",
       "Expecting:\n",
       "    True\n",
       "**********************************************************************\n",
       "Line 2, in q5e 1\n",
       "Failed example:\n",
       "    all(election_agg.index == bootstrap_data_means(election_sub).index)\n",
       "Exception raised:\n",
       "    Traceback (most recent call last):\n",
       "      File \"/opt/conda/lib/python3.9/doctest.py\", line 1336, in __run\n",
       "        exec(compile(example.source, filename, \"single\",\n",
       "      File \"<doctest q5e 1[0]>\", line 1, in <module>\n",
       "        all(election_agg.index == bootstrap_data_means(election_sub).index)\n",
       "    AttributeError: 'ellipsis' object has no attribute 'index'\n",
       "</pre>\n",
       "        \n",
       "        </p>\n",
       "    \n",
       "        <p><em>q5e - 3</em>\n",
       "        \n",
       "            <pre>Trying:\n",
       "    'mean' in bootstrap_data_means(election_sub).columns\n",
       "Expecting:\n",
       "    False\n",
       "**********************************************************************\n",
       "Line 2, in q5e 2\n",
       "Failed example:\n",
       "    'mean' in bootstrap_data_means(election_sub).columns\n",
       "Exception raised:\n",
       "    Traceback (most recent call last):\n",
       "      File \"/opt/conda/lib/python3.9/doctest.py\", line 1336, in __run\n",
       "        exec(compile(example.source, filename, \"single\",\n",
       "      File \"<doctest q5e 2[0]>\", line 1, in <module>\n",
       "        'mean' in bootstrap_data_means(election_sub).columns\n",
       "    AttributeError: 'ellipsis' object has no attribute 'columns'\n",
       "</pre>\n",
       "        \n",
       "        </p>\n",
       "    \n",
       "        <p><em>q5e - 4</em>\n",
       "        \n",
       "            <pre>Trying:\n",
       "    bootstrap_election_100_agg.shape\n",
       "Expecting:\n",
       "    (19, 100)\n",
       "**********************************************************************\n",
       "Line 2, in q5e 3\n",
       "Failed example:\n",
       "    bootstrap_election_100_agg.shape\n",
       "Exception raised:\n",
       "    Traceback (most recent call last):\n",
       "      File \"/opt/conda/lib/python3.9/doctest.py\", line 1336, in __run\n",
       "        exec(compile(example.source, filename, \"single\",\n",
       "      File \"<doctest q5e 3[0]>\", line 1, in <module>\n",
       "        bootstrap_election_100_agg.shape\n",
       "    AttributeError: 'ellipsis' object has no attribute 'shape'\n",
       "</pre>\n",
       "        \n",
       "        </p>\n",
       "    \n",
       "    \n",
       "\n"
      ],
      "text/plain": [
       "q1a passed!\n",
       "\n",
       "q1b passed!\n",
       "\n",
       "q1c passed!\n",
       "\n",
       "q2a passed!\n",
       "\n",
       "q2b passed!\n",
       "\n",
       "q4a passed!\n",
       "\n",
       "q4b passed!\n",
       "\n",
       "q5a passed!\n",
       "\n",
       "q5c passed!\n",
       "\n",
       "q5e results:\n",
       "\n",
       "Trying:\n",
       "    len(bootstrap_data_means(election_sub))\n",
       "Expecting:\n",
       "    19\n",
       "**********************************************************************\n",
       "Line 2, in q5e 0\n",
       "Failed example:\n",
       "    len(bootstrap_data_means(election_sub))\n",
       "Exception raised:\n",
       "    Traceback (most recent call last):\n",
       "      File \"/opt/conda/lib/python3.9/doctest.py\", line 1336, in __run\n",
       "        exec(compile(example.source, filename, \"single\",\n",
       "      File \"<doctest q5e 0[0]>\", line 1, in <module>\n",
       "        len(bootstrap_data_means(election_sub))\n",
       "    TypeError: object of type 'ellipsis' has no len()\n",
       "\n",
       "Trying:\n",
       "    all(election_agg.index == bootstrap_data_means(election_sub).index)\n",
       "Expecting:\n",
       "    True\n",
       "**********************************************************************\n",
       "Line 2, in q5e 1\n",
       "Failed example:\n",
       "    all(election_agg.index == bootstrap_data_means(election_sub).index)\n",
       "Exception raised:\n",
       "    Traceback (most recent call last):\n",
       "      File \"/opt/conda/lib/python3.9/doctest.py\", line 1336, in __run\n",
       "        exec(compile(example.source, filename, \"single\",\n",
       "      File \"<doctest q5e 1[0]>\", line 1, in <module>\n",
       "        all(election_agg.index == bootstrap_data_means(election_sub).index)\n",
       "    AttributeError: 'ellipsis' object has no attribute 'index'\n",
       "\n",
       "Trying:\n",
       "    'mean' in bootstrap_data_means(election_sub).columns\n",
       "Expecting:\n",
       "    False\n",
       "**********************************************************************\n",
       "Line 2, in q5e 2\n",
       "Failed example:\n",
       "    'mean' in bootstrap_data_means(election_sub).columns\n",
       "Exception raised:\n",
       "    Traceback (most recent call last):\n",
       "      File \"/opt/conda/lib/python3.9/doctest.py\", line 1336, in __run\n",
       "        exec(compile(example.source, filename, \"single\",\n",
       "      File \"<doctest q5e 2[0]>\", line 1, in <module>\n",
       "        'mean' in bootstrap_data_means(election_sub).columns\n",
       "    AttributeError: 'ellipsis' object has no attribute 'columns'\n",
       "\n",
       "Trying:\n",
       "    bootstrap_election_100_agg.shape\n",
       "Expecting:\n",
       "    (19, 100)\n",
       "**********************************************************************\n",
       "Line 2, in q5e 3\n",
       "Failed example:\n",
       "    bootstrap_election_100_agg.shape\n",
       "Exception raised:\n",
       "    Traceback (most recent call last):\n",
       "      File \"/opt/conda/lib/python3.9/doctest.py\", line 1336, in __run\n",
       "        exec(compile(example.source, filename, \"single\",\n",
       "      File \"<doctest q5e 3[0]>\", line 1, in <module>\n",
       "        bootstrap_election_100_agg.shape\n",
       "    AttributeError: 'ellipsis' object has no attribute 'shape'\n",
       "\n"
      ]
     },
     "execution_count": 32,
     "metadata": {},
     "output_type": "execute_result"
    }
   ],
   "source": [
    "grader.check_all()"
   ]
  },
  {
   "cell_type": "markdown",
   "metadata": {
    "deletable": false,
    "editable": false
   },
   "source": [
    "## Submission\n",
    "\n",
    "Make sure you have run all cells in your notebook in order before running the cell below, so that all images/graphs appear in the output. The cell below will generate a zip file for you to submit. **Please save before exporting!**"
   ]
  },
  {
   "cell_type": "code",
   "execution_count": 33,
   "metadata": {
    "deletable": false,
    "editable": false
   },
   "outputs": [
    {
     "data": {
      "text/html": [
       "\n",
       "                <p>Your submission has been exported. Click <a href=\"assignment1.zip\" target=\"_blank\">here</a>\n",
       "                to download the zip file.</p>\n",
       "                "
      ],
      "text/plain": [
       "<IPython.core.display.HTML object>"
      ]
     },
     "metadata": {},
     "output_type": "display_data"
    }
   ],
   "source": [
    "# Save your notebook first, then run this cell to export your submission.\n",
    "grader.export()"
   ]
  },
  {
   "cell_type": "markdown",
   "metadata": {},
   "source": [
    " "
   ]
  }
 ],
 "metadata": {
  "kernelspec": {
   "display_name": "Python 3 (ipykernel)",
   "language": "python",
   "name": "python3"
  },
  "language_info": {
   "codemirror_mode": {
    "name": "ipython",
    "version": 3
   },
   "file_extension": ".py",
   "mimetype": "text/x-python",
   "name": "python",
   "nbconvert_exporter": "python",
   "pygments_lexer": "ipython3",
   "version": "3.9.6"
  },
  "vscode": {
   "interpreter": {
    "hash": "d4d1e4263499bec80672ea0156c357c1ee493ec2b1c70f0acce89fc37c4a6abe"
   }
  }
 },
 "nbformat": 4,
 "nbformat_minor": 4
}
